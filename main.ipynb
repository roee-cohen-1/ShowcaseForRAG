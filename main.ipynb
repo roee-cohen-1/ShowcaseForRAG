{
 "cells": [
  {
   "cell_type": "code",
   "execution_count": 1,
   "metadata": {},
   "outputs": [
    {
     "name": "stderr",
     "output_type": "stream",
     "text": [
      "2024-06-28 19:38:39.193507: E external/local_xla/xla/stream_executor/cuda/cuda_dnn.cc:9261] Unable to register cuDNN factory: Attempting to register factory for plugin cuDNN when one has already been registered\n",
      "2024-06-28 19:38:39.193572: E external/local_xla/xla/stream_executor/cuda/cuda_fft.cc:607] Unable to register cuFFT factory: Attempting to register factory for plugin cuFFT when one has already been registered\n",
      "2024-06-28 19:38:39.195182: E external/local_xla/xla/stream_executor/cuda/cuda_blas.cc:1515] Unable to register cuBLAS factory: Attempting to register factory for plugin cuBLAS when one has already been registered\n",
      "2024-06-28 19:38:39.204482: I tensorflow/core/platform/cpu_feature_guard.cc:182] This TensorFlow binary is optimized to use available CPU instructions in performance-critical operations.\n",
      "To enable the following instructions: AVX2 FMA, in other operations, rebuild TensorFlow with the appropriate compiler flags.\n",
      "2024-06-28 19:38:40.469759: W tensorflow/compiler/tf2tensorrt/utils/py_utils.cc:38] TF-TRT Warning: Could not find TensorRT\n"
     ]
    }
   ],
   "source": [
    "from dataset import load_and_embed\n",
    "from index import index_vectors\n",
    "from llm import ask, augment\n",
    "import os\n",
    "\n",
    "import warnings\n",
    "warnings.filterwarnings(\"ignore\")\n",
    "\n",
    "from dotenv import load_dotenv\n",
    "\n",
    "load_dotenv()\n",
    "PINECONE_API_KEY = os.getenv('PINECONE_API_KEY')\n",
    "COHERE_API_KEY = os.getenv('COHERE_API_KEY')"
   ]
  },
  {
   "cell_type": "code",
   "execution_count": 7,
   "metadata": {},
   "outputs": [
    {
     "name": "stderr",
     "output_type": "stream",
     "text": [
      "Chunking: 100%|██████████| 1479/1479 [00:00<00:00, 9848.43it/s]\n"
     ]
    },
    {
     "data": {
      "application/vnd.jupyter.widget-view+json": {
       "model_id": "f2b686979eca4953b55430c13c7a997c",
       "version_major": 2,
       "version_minor": 0
      },
      "text/plain": [
       "Batches:   0%|          | 0/47 [00:00<?, ?it/s]"
      ]
     },
     "metadata": {},
     "output_type": "display_data"
    }
   ],
   "source": [
    "embeddings, chunks, embedding_model = load_and_embed(\n",
    "    dataset_name='sujayC66/stocknews_summarization_1700',\n",
    "    embedding_model='all-MiniLM-L6-v2'\n",
    ")\n",
    "index = index_vectors(embeddings, chunks, PINECONE_API_KEY)"
   ]
  },
  {
   "cell_type": "code",
   "execution_count": 12,
   "metadata": {},
   "outputs": [],
   "source": [
    "\n",
    "prompt = f\"\"\"\n",
    "Using only the context below, answer the question.\n",
    "\n",
    "Context:\n",
    "CONTEXT\n",
    "\n",
    "Question:\n",
    "QUERY\n",
    "\n",
    "If the answer is not included in the source knowledge - say that you don't know.\n",
    "\"\"\""
   ]
  },
  {
   "cell_type": "code",
   "execution_count": 21,
   "metadata": {},
   "outputs": [],
   "source": [
    "def compare(query):\n",
    "    no_context = ask(query, COHERE_API_KEY)\n",
    "    with_context, context = augment(\n",
    "        query, COHERE_API_KEY, index, embedding_model, prompt, \n",
    "        llm_model='command-r', context_size=5\n",
    "    )\n",
    "    print('Answer without context:')\n",
    "    print(no_context)\n",
    "    print()\n",
    "    print('Answer with context:')\n",
    "    print(with_context)"
   ]
  },
  {
   "cell_type": "code",
   "execution_count": 22,
   "metadata": {},
   "outputs": [
    {
     "name": "stdout",
     "output_type": "stream",
     "text": [
      "Answer without context:\n",
      "I cannot confirm which tracking devices ZIM is using, as I have no access to their specific operations or technologies. However, there are several prominent tracking device providers that are widely used in the logistics and transportation industry. These companies offer various devices and solutions to track and monitor the movement of assets, including containers and shipments. Here are a few notable examples:\n",
      "\n",
      "1. Teltonika: Teltonika is a European company that offers a wide range of GPS trackers, including portable and wireless models. Their devices are known for their durability and long battery life, making them suitable for rugged logistics applications.\n",
      "\n",
      "2. Trakopolis: Trakopolis provides IoT-enabled tracking solutions to businesses in various sectors, including logistics and transportation. Their platform allows for real-time asset tracking, condition monitoring, and analytics to optimize supply chain operations.\n",
      "\n",
      "3. Tive: Tive is a US-based company that offers cloud-based tracking solutions for supply chain visibility. Their tracking devices are compact, ruggedized, and provide real-time location and condition data for in-transit goods.\n",
      "\n",
      "4. CalAmp: CalAmp is a leading provider of Internet of Things (IoT) enablement solutions. They offer a wide range of tracking devices, including container trackers with telematics capabilities, which can monitor location, temperature, and other environmental conditions.\n",
      "\n",
      "5. Geodis: Geodis is a global logistics provider with a comprehensive suite of logistics technology, including tracking solutions. They offer a range of tracking devices and platforms to meet the specific needs of their customers' supply chains.\n",
      "\n",
      "These are just a few examples, and ZIM may be using other providers or custom solutions tailored to their operations and requirements. Ultimately, the choice of tracking device depends on factors such as cost, reliability, supported features, and compatibility with existing systems.\n",
      "\n",
      "Answer with context:\n",
      "ZIM Integrated Shipping Services Ltd. will be deploying HoopoSense Solar advanced tracking devices across its dry van container fleet. The devices are produced by Hoopo Systems Ltd., in which ZIM has a financial stake.\n"
     ]
    }
   ],
   "source": [
    "compare('Which tracking devices are ZIM using?')"
   ]
  },
  {
   "cell_type": "code",
   "execution_count": 23,
   "metadata": {},
   "outputs": [
    {
     "name": "stdout",
     "output_type": "stream",
     "text": [
      "Answer without context:\n",
      "The 2023 financial results for the S&P 500 are expected to be released in early 2024. This is based on the typical timeline for the release of previous year's financial results by S&P. The S&P 500, or Standard & Poor's 500, is a stock market index that measures the performance of 500 large companies listed on stock exchanges in the United States. \n",
      "\n",
      "The exact date of the release of the 2023 financial results will depend on several factors, such as the pace of data collection and analysis, and any regulatory requirements. Typically, the releases of this sort of information are planned carefully in advance, and the announcement would garner significant attention among investors and analysts. Although it is not currently possible to view the exact date, you should be able to find out more specific information in the coming months leading up to the release, by checking reliable sources of financial news and information, such as the company's website or the official statements released by S&P.\n",
      "\n",
      "Answer with context:\n",
      "S&P Global will release its fourth quarter and full-year 2023 financial results on February 8, 2024.\n"
     ]
    }
   ],
   "source": [
    "compare('When will S&P release their 2023 financial results?')"
   ]
  }
 ],
 "metadata": {
  "kernelspec": {
   "display_name": "azureml_py38_PT_and_TF",
   "language": "python",
   "name": "python3"
  },
  "language_info": {
   "codemirror_mode": {
    "name": "ipython",
    "version": 3
   },
   "file_extension": ".py",
   "mimetype": "text/x-python",
   "name": "python",
   "nbconvert_exporter": "python",
   "pygments_lexer": "ipython3",
   "version": "3.9.18"
  }
 },
 "nbformat": 4,
 "nbformat_minor": 2
}
